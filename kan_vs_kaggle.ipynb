{
 "cells": [
  {
   "cell_type": "code",
   "execution_count": 381,
   "metadata": {},
   "outputs": [],
   "source": [
    "import kan\n",
    "import torch\n",
    "import numpy as np\n",
    "import matplotlib.pyplot as plt\n",
    "import seaborn as sns\n",
    "import pandas as pd\n",
    "from sklearn.metrics import confusion_matrix\n",
    "from sklearn.model_selection import train_test_split\n",
    "\n",
    "directory_path=\"kaggle_dataset\""
   ]
  },
  {
   "cell_type": "code",
   "execution_count": 431,
   "metadata": {},
   "outputs": [
    {
     "name": "stdout",
     "output_type": "stream",
     "text": [
      "   Depression\n",
      "0           0\n",
      "1           1\n",
      "2           1\n",
      "3           1\n",
      "4           0\n"
     ]
    }
   ],
   "source": [
    "x_train = pd.read_parquet(f\"{directory_path}/X_train_preprocessed.parquet\")\n",
    "##x_test = pd.read_parquet(f\"{directory_path}/X_test_preprocessed.parquet\")\n",
    "y_train = pd.read_parquet(f\"{directory_path}/y_train.parquet\")\n",
    "\n",
    "\n",
    "print(y_train.head())\n",
    "from sklearn.preprocessing import MinMaxScaler\n",
    "scaler = MinMaxScaler([0,1])\n",
    "x_train = scaler.fit_transform(x_train)\n",
    "##x_test = scaler.transform(x_test)\n",
    "## split the data into training and validation\n",
    "x_train, x_val, y_train, y_val = train_test_split(x_train, y_train, test_size=0.01)\n",
    "\n",
    "\n",
    "## convert everything to torch tensor\n",
    "x_train = torch.tensor(x_train, dtype=torch.float32)\n",
    "x_val = torch.tensor(x_val, dtype=torch.float32)\n",
    "y_train = torch.tensor(y_train.values, dtype=torch.float32).squeeze()\n",
    "y_train = torch.nn.functional.one_hot(y_train.long(), num_classes=2).float().view(-1,2)\n",
    "y_val = torch.tensor(y_val.values, dtype=torch.float32).squeeze()\n",
    "y_val = torch.nn.functional.one_hot(y_val.long(), num_classes=2).float().view(-1,2)\n",
    "\n",
    "## create the dataset\n",
    "dataset={}\n",
    "dataset['train_input'] = x_train\n",
    "dataset['train_label'] = y_train\n",
    "dataset['test_input'] = x_val\n",
    "dataset['test_label'] = y_val\n",
    "\n"
   ]
  },
  {
   "cell_type": "code",
   "execution_count": 432,
   "metadata": {},
   "outputs": [
    {
     "data": {
      "text/plain": [
       "tensor([[1., 0.],\n",
       "        [1., 0.],\n",
       "        [1., 0.],\n",
       "        [1., 0.],\n",
       "        [1., 0.],\n",
       "        [0., 1.],\n",
       "        [1., 0.],\n",
       "        [1., 0.],\n",
       "        [1., 0.],\n",
       "        [1., 0.]])"
      ]
     },
     "execution_count": 432,
     "metadata": {},
     "output_type": "execute_result"
    }
   ],
   "source": [
    "y_val[0:10]\n",
    "\n"
   ]
  },
  {
   "cell_type": "code",
   "execution_count": 433,
   "metadata": {},
   "outputs": [
    {
     "name": "stdout",
     "output_type": "stream",
     "text": [
      "<class 'torch.Tensor'>\n",
      "<class 'torch.Tensor'>\n",
      "<class 'torch.Tensor'>\n",
      "<class 'torch.Tensor'>\n"
     ]
    }
   ],
   "source": [
    "for k,v in dataset.items():\n",
    "    print(type(v))\n"
   ]
  },
  {
   "cell_type": "code",
   "execution_count": 476,
   "metadata": {},
   "outputs": [
    {
     "name": "stdout",
     "output_type": "stream",
     "text": [
      "checkpoint directory created: ./model\n",
      "saving model version 0.0\n"
     ]
    }
   ],
   "source": [
    "model=kan.KAN(width=[x_train.shape[1],10,2], grid=5, k=5,device=\"cpu\")"
   ]
  },
  {
   "cell_type": "code",
   "execution_count": 477,
   "metadata": {},
   "outputs": [
    {
     "name": "stderr",
     "output_type": "stream",
     "text": [
      "| train_loss: 4.02e-01 | test_loss: 4.10e-01 | reg: 1.32e+02 | : 100%|█| 250/250 [01:33<00:00,  2.68\n"
     ]
    },
    {
     "name": "stdout",
     "output_type": "stream",
     "text": [
      "saving model version 0.1\n",
      "accuracy=0.9296\n"
     ]
    },
    {
     "name": "stderr",
     "output_type": "stream",
     "text": [
      "| train_loss: 3.81e-01 | test_loss: 4.06e-01 | reg: 1.31e+02 | : 100%|█| 250/250 [01:32<00:00,  2.69\n"
     ]
    },
    {
     "name": "stdout",
     "output_type": "stream",
     "text": [
      "saving model version 0.2\n",
      "accuracy=0.9397\n"
     ]
    },
    {
     "name": "stderr",
     "output_type": "stream",
     "text": [
      "| train_loss: 3.94e-01 | test_loss: 3.95e-01 | reg: 1.15e+02 | : 100%|█| 250/250 [01:30<00:00,  2.77\n"
     ]
    },
    {
     "name": "stdout",
     "output_type": "stream",
     "text": [
      "saving model version 0.3\n",
      "accuracy=0.9404\n"
     ]
    },
    {
     "name": "stderr",
     "output_type": "stream",
     "text": [
      "| train_loss: 3.93e-01 | test_loss: 3.92e-01 | reg: 1.12e+02 | : 100%|█| 250/250 [01:31<00:00,  2.72"
     ]
    },
    {
     "name": "stdout",
     "output_type": "stream",
     "text": [
      "saving model version 0.4\n",
      "accuracy=0.9390\n"
     ]
    },
    {
     "name": "stderr",
     "output_type": "stream",
     "text": [
      "\n"
     ]
    }
   ],
   "source": [
    "for __ in range(4):\n",
    "    _ = model.fit(dataset, opt=\"LBFGS\", steps=250,loss_fn=torch.nn.BCEWithLogitsLoss(),batch=1024)\n",
    "    y_pred = model(dataset['test_input'])\n",
    "    y_pred=torch.sigmoid(y_pred)\n",
    "    y_pred_binary=torch.argmax(y_pred,dim=1)\n",
    "    y_val_binary=torch.argmax(y_val,dim=1)\n",
    "    ## calcoliamo la precisione\n",
    "\n",
    "    accuracy=(y_pred_binary==y_val_binary).float().mean()\n",
    "    print(f\"{accuracy=:.4f}\")"
   ]
  },
  {
   "cell_type": "code",
   "execution_count": 464,
   "metadata": {},
   "outputs": [
    {
     "data": {
      "text/plain": [
       "tensor([[9.9982e-01, 1.8790e-04],\n",
       "        [9.9848e-01, 1.6223e-03],\n",
       "        [9.1366e-01, 1.1097e-01],\n",
       "        [9.9765e-01, 3.1983e-03],\n",
       "        [9.9759e-01, 3.6842e-03],\n",
       "        [2.1611e-02, 9.7681e-01],\n",
       "        [9.8853e-01, 1.4761e-02],\n",
       "        [9.9978e-01, 2.9554e-04],\n",
       "        [9.9944e-01, 5.6188e-04],\n",
       "        [9.7222e-01, 3.8844e-02]], grad_fn=<SliceBackward0>)"
      ]
     },
     "execution_count": 464,
     "metadata": {},
     "output_type": "execute_result"
    }
   ],
   "source": [
    "y_pred = model(dataset['test_input'])\n",
    "y_pred=torch.sigmoid(y_pred)\n",
    "\n",
    "y_pred[0:10]\n"
   ]
  },
  {
   "cell_type": "code",
   "execution_count": 465,
   "metadata": {},
   "outputs": [],
   "source": [
    "## calcoliamo quanti 0 e quanti 1 ci sono nel dataset di train\n",
    "n_ones=y_train.sum()\n",
    "n_zeros=y_train.shape[0]-n_ones"
   ]
  },
  {
   "cell_type": "code",
   "execution_count": 466,
   "metadata": {},
   "outputs": [
    {
     "data": {
      "text/plain": [
       "(tensor(137900.), tensor(0.))"
      ]
     },
     "execution_count": 466,
     "metadata": {},
     "output_type": "execute_result"
    }
   ],
   "source": [
    "n_ones,n_zeros"
   ]
  },
  {
   "cell_type": "code",
   "execution_count": 467,
   "metadata": {},
   "outputs": [],
   "source": [
    "weight=torch.tensor([n_zeros/y_train.shape[0],n_ones/y_train.shape[0]])\n",
    "\n"
   ]
  },
  {
   "cell_type": "code",
   "execution_count": 468,
   "metadata": {},
   "outputs": [
    {
     "data": {
      "text/plain": [
       "tensor(0.9296)"
      ]
     },
     "execution_count": 468,
     "metadata": {},
     "output_type": "execute_result"
    }
   ],
   "source": [
    "threshold=1\n",
    "y_pred_binary=torch.argmax(y_pred,dim=1)\n",
    "y_val_binary=torch.argmax(y_val,dim=1)\n",
    "## calcoliamo la precisione\n",
    "\n",
    "accuracy=(y_pred_binary==y_val_binary).float().mean()\n",
    "accuracy\n"
   ]
  },
  {
   "cell_type": "code",
   "execution_count": null,
   "metadata": {},
   "outputs": [],
   "source": []
  },
  {
   "cell_type": "code",
   "execution_count": null,
   "metadata": {},
   "outputs": [],
   "source": []
  }
 ],
 "metadata": {
  "kernelspec": {
   "display_name": "Python 3",
   "language": "python",
   "name": "python3"
  },
  "language_info": {
   "codemirror_mode": {
    "name": "ipython",
    "version": 3
   },
   "file_extension": ".py",
   "mimetype": "text/x-python",
   "name": "python",
   "nbconvert_exporter": "python",
   "pygments_lexer": "ipython3",
   "version": "3.9.6"
  }
 },
 "nbformat": 4,
 "nbformat_minor": 2
}
